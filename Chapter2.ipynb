{
 "cells": [
  {
   "cell_type": "code",
   "execution_count": 1,
   "id": "35935ade-a37e-4128-8499-a9f262699fb4",
   "metadata": {},
   "outputs": [
    {
     "data": {
      "text/plain": [
       "'\\nBài 1. Viết chương trình nhập vào một chuỗi\\nXuất ra màn hình chuỗi ký tự hoa\\nXuất ra màn hình chuỗi ký tự có ký tự đầu là ký tự hoa\\nXuất ra màn hình chuỗi ký tự thường\\n'"
      ]
     },
     "execution_count": 1,
     "metadata": {},
     "output_type": "execute_result"
    }
   ],
   "source": [
    "\"\"\"\n",
    "Bài 1. Viết chương trình nhập vào một chuỗi\n",
    "Xuất ra màn hình chuỗi ký tự hoa\n",
    "Xuất ra màn hình chuỗi ký tự có ký tự đầu là ký tự hoa\n",
    "Xuất ra màn hình chuỗi ký tự thường\n",
    "\"\"\""
   ]
  },
  {
   "cell_type": "code",
   "execution_count": 2,
   "id": "9d2f01df-e2a9-4b2c-8cc6-fc4b9af2cdce",
   "metadata": {},
   "outputs": [
    {
     "name": "stdin",
     "output_type": "stream",
     "text": [
      "Enter your string: HuynhVanVinh_24NS069\n"
     ]
    },
    {
     "name": "stdout",
     "output_type": "stream",
     "text": [
      "A Upper String is: HUYNHVANVINH_24NS069\n",
      "A Lower String is : huynhvanvinh_24ns069\n",
      "A Title String is : Huynhvanvinh_24Ns069\n"
     ]
    }
   ],
   "source": [
    "st = input(\"Enter your string:\")\n",
    "st_upper = st.upper()\n",
    "st_lower = st.lower()\n",
    "st_title = st.title()\n",
    "\n",
    "print(\"A Upper String is: \" + st_upper)\n",
    "print(\"A Lower String is : \" + st_lower)\n",
    "print(\"A Title String is : \" + st_title)"
   ]
  },
  {
   "cell_type": "code",
   "execution_count": 3,
   "id": "98e97b62-9325-4274-80fe-98c384875cbc",
   "metadata": {},
   "outputs": [
    {
     "data": {
      "text/plain": [
       "'\\nBài 2. Cho chuỗi biểu diễn địa chỉ email:   \" minhnhutvh@gmail.com\" \\nRút trích và hiển thị chuỗi \"gmail.com\" (Đây chính là  tên Host)\\n'"
      ]
     },
     "execution_count": 3,
     "metadata": {},
     "output_type": "execute_result"
    }
   ],
   "source": [
    "'''\n",
    "Bài 2. Cho chuỗi biểu diễn địa chỉ email:   \" minhnhutvh@gmail.com\" \n",
    "Rút trích và hiển thị chuỗi \"gmail.com\" (Đây chính là  tên Host)\n",
    "'''"
   ]
  },
  {
   "cell_type": "code",
   "execution_count": 4,
   "id": "2208cd36-d314-4927-9fb5-55bc689b501e",
   "metadata": {},
   "outputs": [
    {
     "name": "stdout",
     "output_type": "stream",
     "text": [
      "gmail.com\n"
     ]
    }
   ],
   "source": [
    "data = \"minhnhutvh@gmail.com\"\n",
    "position = data.find(\"@\")               \n",
    "host = data[position +1 :]\n",
    "print(host)"
   ]
  },
  {
   "cell_type": "code",
   "execution_count": 5,
   "id": "2411f1dd-bada-4dc7-90be-d5b14be8685d",
   "metadata": {},
   "outputs": [
    {
     "data": {
      "text/plain": [
       "'\\nBài 3. Cho chuỗi biểu diễn:  \\n        ‘minhnhutvh@gmai.com Sat Jan 5 09:14:16’\\nRút trích và hiển thị chuỗi “gmail.com”\\n'"
      ]
     },
     "execution_count": 5,
     "metadata": {},
     "output_type": "execute_result"
    }
   ],
   "source": [
    "'''\n",
    "Bài 3. Cho chuỗi biểu diễn:  \n",
    "        ‘minhnhutvh@gmai.com Sat Jan 5 09:14:16’\n",
    "Rút trích và hiển thị chuỗi “gmail.com”\n",
    "'''"
   ]
  },
  {
   "cell_type": "code",
   "execution_count": 6,
   "id": "c60f43e5-e0ba-4f2f-be62-a3df3ed218a8",
   "metadata": {},
   "outputs": [
    {
     "name": "stdout",
     "output_type": "stream",
     "text": [
      "gmail.com\n"
     ]
    }
   ],
   "source": [
    "data = \"minhnhutvh@gmail.com Sat Jan 5 09:14:16\"\n",
    "Start_position = data.find(\"@\")                #  10\n",
    "End_position = data.find(\" \", Start_position)  #  26\n",
    "host = data[Start_position +1 : End_position]\n",
    "print(host)\n"
   ]
  },
  {
   "cell_type": "code",
   "execution_count": 7,
   "id": "4a1b2728-50bc-488b-9e8d-db3b27daf173",
   "metadata": {},
   "outputs": [
    {
     "data": {
      "text/plain": [
       "' \\nBài 4: Viết một chương trình thay thế một từ trong chuỗi. Yêu cầu: \\nNhập vào một chuỗi \\nNhập vào một từ cần thay thế và một từ thay thế. \\nSau đó, hiển thị kết quả ra màn hình.\\n'"
      ]
     },
     "execution_count": 7,
     "metadata": {},
     "output_type": "execute_result"
    }
   ],
   "source": [
    "''' \n",
    "Bài 4: Viết một chương trình thay thế một từ trong chuỗi. Yêu cầu: \n",
    "Nhập vào một chuỗi \n",
    "Nhập vào một từ cần thay thế và một từ thay thế. \n",
    "Sau đó, hiển thị kết quả ra màn hình.\n",
    "'''"
   ]
  },
  {
   "cell_type": "code",
   "execution_count": 8,
   "id": "d7e501cf-58a4-4d4d-bc28-6c8d4b93ce7a",
   "metadata": {},
   "outputs": [
    {
     "name": "stdin",
     "output_type": "stream",
     "text": [
      "Enter your string:  huynhvanvinh\n",
      " Enter the word that needs to replace:  h\n",
      " Enter the word after being replaced:  H\n"
     ]
    },
    {
     "name": "stdout",
     "output_type": "stream",
     "text": [
      "HuynHvanvinH\n"
     ]
    }
   ],
   "source": [
    "st1 = input(\"Enter your string: \")\n",
    "st2 = input(\" Enter the word that needs to replace: \")\n",
    "st3 = input(\" Enter the word after being replaced: \")\n",
    "st1 = st1.replace(st2,st3)\n",
    "print(st1)"
   ]
  },
  {
   "cell_type": "code",
   "execution_count": 9,
   "id": "08175c45-b8a4-4e34-bb79-933313fb56db",
   "metadata": {},
   "outputs": [
    {
     "data": {
      "text/plain": [
       "'\\nBài 5: Viết một chương trình nhập vào 1 chuỗi. Sau đó, xuất ra màn hình: \\n5 ký tự cuối cùng; 5 ký tự đầu tiên. \\n4 chuỗi trên một dòng cách 1 khoảng trắng.\\n4 chuỗi trên 4 dòng.\\n'"
      ]
     },
     "execution_count": 9,
     "metadata": {},
     "output_type": "execute_result"
    }
   ],
   "source": [
    "'''\n",
    "Bài 5: Viết một chương trình nhập vào 1 chuỗi. Sau đó, xuất ra màn hình: \n",
    "5 ký tự cuối cùng; 5 ký tự đầu tiên. \n",
    "4 chuỗi trên một dòng cách 1 khoảng trắng.\n",
    "4 chuỗi trên 4 dòng.\n",
    "'''"
   ]
  },
  {
   "cell_type": "code",
   "execution_count": 10,
   "id": "4001f4f7-de87-4d20-bc1f-3718c81e490e",
   "metadata": {},
   "outputs": [
    {
     "name": "stdin",
     "output_type": "stream",
     "text": [
      "Enter your string:  huynhvanvinh\n"
     ]
    },
    {
     "name": "stdout",
     "output_type": "stream",
     "text": [
      "First five characters are: huynh\n",
      "Last five characters are: nvinh\n",
      "Four strings of one line are: huynhvanvinh huynhvanvinh huynhvanvinh huynhvanvinh \n",
      "Four strings of four line are: \n",
      "huynhvanvinh\n",
      "huynhvanvinh\n",
      "huynhvanvinh\n",
      "huynhvanvinh\n",
      "\n"
     ]
    }
   ],
   "source": [
    "st = input(\"Enter your string: \")\n",
    "First_five_characters = st[:5]\n",
    "Last_five_characters = st[len(st)-5:]\n",
    "Str_1_line_4 = 4 * (st + \" \")\n",
    "Str_4_line_4 = 4 * (st + \"\\n\")\n",
    "print(\"First five characters are: \" + First_five_characters)\n",
    "print(\"Last five characters are: \" + Last_five_characters)\n",
    "print(\"Four strings of one line are: \" + Str_1_line_4)\n",
    "print(\"Four strings of four line are: \\n\" + Str_4_line_4)\n"
   ]
  },
  {
   "cell_type": "code",
   "execution_count": 11,
   "id": "2b052edf-ce2e-4fda-88aa-9f938dbcc07e",
   "metadata": {},
   "outputs": [
    {
     "data": {
      "text/plain": [
       "' \\nBài 6: Viết chương trình tính thể tích hình trụ V = πr2h với r là bán kính của mặt đáy, h là chiều cao của hình trụ, và π là hằng số pi. Với r và h nhập vào từ bàn phím.\\n'"
      ]
     },
     "execution_count": 11,
     "metadata": {},
     "output_type": "execute_result"
    }
   ],
   "source": [
    "''' \n",
    "Bài 6: Viết chương trình tính thể tích hình trụ V = πr2h với r là bán kính của mặt đáy, h là chiều cao của hình trụ, và π là hằng số pi. Với r và h nhập vào từ bàn phím.\n",
    "'''"
   ]
  },
  {
   "cell_type": "code",
   "execution_count": 12,
   "id": "24065f80-a911-49a8-b045-c656c769a139",
   "metadata": {},
   "outputs": [
    {
     "name": "stdin",
     "output_type": "stream",
     "text": [
      "Nhap ban kinh:  2\n",
      "Nhap chieu cao:  6\n"
     ]
    },
    {
     "name": "stdout",
     "output_type": "stream",
     "text": [
      "The tich hinh tru V =  75.39822368615503\n"
     ]
    }
   ],
   "source": [
    "from math import *\n",
    "r=float(input(\"Nhap ban kinh: \"))\n",
    "h=float(input(\"Nhap chieu cao: \"))\n",
    "V=pi*r**2*h\n",
    "print(\"The tich hinh tru V = \", V)"
   ]
  },
  {
   "cell_type": "code",
   "execution_count": 13,
   "id": "d2a6bc82-ff1b-42f3-b88f-c149d19615ad",
   "metadata": {},
   "outputs": [
    {
     "data": {
      "text/plain": [
       "' \\nBài 7: Viết chương trình tính diện tích tam giác theo công thức. Yêu cầu nhập vào 3 cạnh à các góc A,B và C (radian)\\n'"
      ]
     },
     "execution_count": 13,
     "metadata": {},
     "output_type": "execute_result"
    }
   ],
   "source": [
    "''' \n",
    "Bài 7: Viết chương trình tính diện tích tam giác theo công thức. Yêu cầu nhập vào 3 cạnh à các góc A,B và C (radian)\n",
    "'''"
   ]
  },
  {
   "cell_type": "code",
   "execution_count": 15,
   "id": "36886ace-4f2f-42a6-ab7d-6b968f7df676",
   "metadata": {},
   "outputs": [
    {
     "name": "stdin",
     "output_type": "stream",
     "text": [
      "Nhập cạnh a:  3\n",
      "Nhập cạnh b:  4\n",
      "Nhập cạnh c:  5\n",
      "Nhập góc A (radian):  1\n",
      "Nhập góc B (radian):  2\n",
      "Nhập góc C (radian):  3\n"
     ]
    },
    {
     "name": "stdout",
     "output_type": "stream",
     "text": [
      "Diện tích tam giác là: 0.8467200483592032\n"
     ]
    }
   ],
   "source": [
    "import math\n",
    "a = float(input(\"Nhập cạnh a: \"))\n",
    "b = float(input(\"Nhập cạnh b: \"))\n",
    "c = float(input(\"Nhập cạnh c: \"))\n",
    "A = float(input(\"Nhập góc A (radian): \"))\n",
    "B = float(input(\"Nhập góc B (radian): \"))\n",
    "C = float(input(\"Nhập góc C (radian): \"))\n",
    "S = 0.5 * a * b * math.sin(C)\n",
    "print(\"Diện tích tam giác là:\", S)"
   ]
  },
  {
   "cell_type": "code",
   "execution_count": 16,
   "id": "afb6b715-0373-403e-b70d-78236b084d9e",
   "metadata": {},
   "outputs": [
    {
     "data": {
      "text/plain": [
       "'\\nBài 8: Viết chương trình tính diện tích tam giác đều theo định lý Heron. Yêu cầu nhập vào cạnh tam giác đều.\\n'"
      ]
     },
     "execution_count": 16,
     "metadata": {},
     "output_type": "execute_result"
    }
   ],
   "source": [
    "'''\n",
    "Bài 8: Viết chương trình tính diện tích tam giác đều theo định lý Heron. Yêu cầu nhập vào cạnh tam giác đều.\n",
    "'''"
   ]
  },
  {
   "cell_type": "code",
   "execution_count": 17,
   "id": "19f921fe-132a-4d14-85c6-f667dc463b0c",
   "metadata": {},
   "outputs": [
    {
     "name": "stdin",
     "output_type": "stream",
     "text": [
      "Nhập cạnh tam giác đều:  30\n"
     ]
    },
    {
     "name": "stdout",
     "output_type": "stream",
     "text": [
      "Diện tích tam giác đều là: 389.7114317029974\n"
     ]
    }
   ],
   "source": [
    "import math\n",
    "a = float(input(\"Nhập cạnh tam giác đều: \"))\n",
    "p = (3 * a) / 2\n",
    "S = math.sqrt(p * (p - a) * (p - a) * (p - a))\n",
    "print(\"Diện tích tam giác đều là:\", S)"
   ]
  },
  {
   "cell_type": "code",
   "execution_count": 18,
   "id": "8982193d-a7df-42a4-bbcd-12ada7b8c620",
   "metadata": {},
   "outputs": [
    {
     "data": {
      "text/plain": [
       "'\\nBài 9: Chạy chương trình Bài 7, nhập giá trị cho trường hợp tam giác đều (lưu ý: giá trị cạnh tam giác = giá trị cạnh tam giác Bài 8). Đánh giá kết quả khi chạy chương trình Bài 7 và Bài 8\\n'"
      ]
     },
     "execution_count": 18,
     "metadata": {},
     "output_type": "execute_result"
    }
   ],
   "source": [
    "'''\n",
    "Bài 9: Chạy chương trình Bài 7, nhập giá trị cho trường hợp tam giác đều (lưu ý: giá trị cạnh tam giác = giá trị cạnh tam giác Bài 8). Đánh giá kết quả khi chạy chương trình Bài 7 và Bài 8\n",
    "'''"
   ]
  },
  {
   "cell_type": "code",
   "execution_count": 19,
   "id": "7eb9a82d-a652-45b0-bdef-ab4ffca4cfea",
   "metadata": {},
   "outputs": [
    {
     "data": {
      "text/plain": [
       "'\\nNếu nhập tam giác đều vào Bài 7 (ví dụ cạnh = 5, góc = π/3), thì kết quả sẽ giống Bài 8.\\nLý do: cả công thức lượng giác và công thức Heron đều đúng cho mọi tam giác, với tam giác đều thì chúng cho ra cùng kết quả.\\n'"
      ]
     },
     "execution_count": 19,
     "metadata": {},
     "output_type": "execute_result"
    }
   ],
   "source": [
    "'''\n",
    "Nếu nhập tam giác đều vào Bài 7 (ví dụ cạnh = 5, góc = π/3), thì kết quả sẽ giống Bài 8.\n",
    "Lý do: cả công thức lượng giác và công thức Heron đều đúng cho mọi tam giác, với tam giác đều thì chúng cho ra cùng kết quả.\n",
    "'''"
   ]
  },
  {
   "cell_type": "code",
   "execution_count": 20,
   "id": "f0133b57-a915-4b61-8e8f-0796cf9e8888",
   "metadata": {},
   "outputs": [
    {
     "data": {
      "text/plain": [
       "'\\nBài 10: Viết chương trình yêu cầu người dùng nhập chiều rộng và chiều dài của một căn phòng. Chiều dài và chiều rộng sẽ hiển thị kiểu số dấu phẩy động. Hiển thị diện tích căn phòng. \\n'"
      ]
     },
     "execution_count": 20,
     "metadata": {},
     "output_type": "execute_result"
    }
   ],
   "source": [
    "'''\n",
    "Bài 10: Viết chương trình yêu cầu người dùng nhập chiều rộng và chiều dài của một căn phòng. Chiều dài và chiều rộng sẽ hiển thị kiểu số dấu phẩy động. Hiển thị diện tích căn phòng. \n",
    "'''"
   ]
  },
  {
   "cell_type": "code",
   "execution_count": 21,
   "id": "42260c3a-7d3e-4ace-bf09-f1d5ee319547",
   "metadata": {},
   "outputs": [
    {
     "name": "stdin",
     "output_type": "stream",
     "text": [
      "Nhập chiều rộng của phòng:  78\n",
      "Nhập chiều dài của phòng:  89\n"
     ]
    },
    {
     "name": "stdout",
     "output_type": "stream",
     "text": [
      "6942.0\n"
     ]
    }
   ],
   "source": [
    "rong = float(input(\"Nhập chiều rộng của phòng: \"))\n",
    "dai = float(input(\"Nhập chiều dài của phòng: \"))\n",
    "dientich = rong * dai\n",
    "print(dientich)"
   ]
  },
  {
   "cell_type": "code",
   "execution_count": 22,
   "id": "85ad71cc-9375-4e5b-8ab3-0b0af44f80f8",
   "metadata": {},
   "outputs": [
    {
     "data": {
      "text/plain": [
       "'\\nBài 11: Viết chương trình đọc chiều dài và chiều rộng của một cánh đồng từ người dùng. Hiển thị diện tích của cánh đồng theo theo đơn vị tính là Mẫu Anh. Gợi ý: Một Mẫu Anh bằng 43.560 met vuông.\\n'"
      ]
     },
     "execution_count": 22,
     "metadata": {},
     "output_type": "execute_result"
    }
   ],
   "source": [
    "'''\n",
    "Bài 11: Viết chương trình đọc chiều dài và chiều rộng của một cánh đồng từ người dùng. Hiển thị diện tích của cánh đồng theo theo đơn vị tính là Mẫu Anh. Gợi ý: Một Mẫu Anh bằng 43.560 met vuông.\n",
    "'''"
   ]
  },
  {
   "cell_type": "code",
   "execution_count": 23,
   "id": "c922b1f5-4633-4753-b64a-c75f6830b6ad",
   "metadata": {},
   "outputs": [
    {
     "name": "stdin",
     "output_type": "stream",
     "text": [
      "Nhập chiều rộng cánh đồng:  45\n",
      "Nhập chiều dài cánh đồng:  78\n"
     ]
    },
    {
     "name": "stdout",
     "output_type": "stream",
     "text": [
      "0.08057851239669421\n"
     ]
    }
   ],
   "source": [
    "rong = float(input(\"Nhập chiều rộng cánh đồng: \"))\n",
    "dai = float(input(\"Nhập chiều dài cánh đồng: \"))\n",
    "dientich_m2 = rong * dai\n",
    "dientich_mau = dientich_m2 / 43560\n",
    "print(dientich_mau)"
   ]
  },
  {
   "cell_type": "code",
   "execution_count": 24,
   "id": "73309744-ad1c-4db5-b4db-1860a359aff0",
   "metadata": {},
   "outputs": [
    {
     "data": {
      "text/plain": [
       "'\\nBài 12: Viết chương trình nhập chi phí của một bữa ăn tại nhà hàng từ người dùng. Chương trình sẽ tính thuế và tiền boa cho bữa ăn. Trong đó, tiền boa là 18% số tiền bữa ăn (không có thuế); tiền thuế là 5% số tiền bữa ăn. Đầu ra của chương trình là tổng tiền, gồm: thuế, số tiền boa và tiền bữa ăn. Định dạng đầu ra sao cho tất cả các giá trị được hiển thị bằng hai con số thập phân\\n'"
      ]
     },
     "execution_count": 24,
     "metadata": {},
     "output_type": "execute_result"
    }
   ],
   "source": [
    "'''\n",
    "Bài 12: Viết chương trình nhập chi phí của một bữa ăn tại nhà hàng từ người dùng. Chương trình sẽ tính thuế và tiền boa cho bữa ăn. Trong đó, tiền boa là 18% số tiền bữa ăn (không có thuế); tiền thuế là 5% số tiền bữa ăn. Đầu ra của chương trình là tổng tiền, gồm: thuế, số tiền boa và tiền bữa ăn. Định dạng đầu ra sao cho tất cả các giá trị được hiển thị bằng hai con số thập phân\n",
    "'''"
   ]
  },
  {
   "cell_type": "code",
   "execution_count": 25,
   "id": "6cd8ad2d-0134-46d8-a616-b0e0089edc24",
   "metadata": {},
   "outputs": [
    {
     "name": "stdin",
     "output_type": "stream",
     "text": [
      "Nhập chi phí bữa ăn:  500000\n"
     ]
    },
    {
     "name": "stdout",
     "output_type": "stream",
     "text": [
      "500000.0\n",
      "90000.0\n",
      "25000.0\n",
      "615000.0\n"
     ]
    }
   ],
   "source": [
    "tien_an = float(input(\"Nhập chi phí bữa ăn: \"))\n",
    "tien_boa = tien_an * 0.18\n",
    "tien_thue = tien_an * 0.05\n",
    "tong = tien_an + tien_boa + tien_thue\n",
    "print(round(tien_an, 2))\n",
    "print(round(tien_boa, 2))\n",
    "print(round(tien_thue, 2))\n",
    "print(round(tong, 2))"
   ]
  },
  {
   "cell_type": "code",
   "execution_count": 26,
   "id": "20d54591-b37c-4ae9-aa8d-4e83bb7f9d48",
   "metadata": {},
   "outputs": [
    {
     "data": {
      "text/plain": [
       "'\\nBài 13: Viết chương trình đọc một số nguyên dương n từ người dùng và sau đó hiển thị tổng của tất cả các số nguyên từ 1 đến n. Tổng của n số nguyên dương đầu tiên có thể được tính bằng công thức:\\n'"
      ]
     },
     "execution_count": 26,
     "metadata": {},
     "output_type": "execute_result"
    }
   ],
   "source": [
    "'''\n",
    "Bài 13: Viết chương trình đọc một số nguyên dương n từ người dùng và sau đó hiển thị tổng của tất cả các số nguyên từ 1 đến n. Tổng của n số nguyên dương đầu tiên có thể được tính bằng công thức:\n",
    "'''"
   ]
  },
  {
   "cell_type": "code",
   "execution_count": 27,
   "id": "b17ac09c-2b69-493f-b808-943d44008a1d",
   "metadata": {},
   "outputs": [
    {
     "name": "stdin",
     "output_type": "stream",
     "text": [
      "Nhập số nguyên dương n:  7\n"
     ]
    },
    {
     "name": "stdout",
     "output_type": "stream",
     "text": [
      "28.0\n"
     ]
    }
   ],
   "source": [
    "n = int(input(\"Nhập số nguyên dương n: \"))\n",
    "tong = n * (n + 1) / 2\n",
    "print(tong)"
   ]
  },
  {
   "cell_type": "code",
   "execution_count": 28,
   "id": "684e7417-7501-4d71-8b8c-ba231737754b",
   "metadata": {},
   "outputs": [
    {
     "data": {
      "text/plain": [
       "'\\nBài 14: Viết một chương trình đọc hai số nguyên a và b từ người dùng. Chương trình sẽ tính toán và hiển thị:\\nTổng của a và b\\nHiệu của a và b\\nTích của a và b\\nThương của a chia cho b\\nPhần còn lại khi a được chia cho b\\nKết quả của 〖𝑙𝑜𝑔〗_10 𝑎\\nKết quả của ab\\n'"
      ]
     },
     "execution_count": 28,
     "metadata": {},
     "output_type": "execute_result"
    }
   ],
   "source": [
    "'''\n",
    "Bài 14: Viết một chương trình đọc hai số nguyên a và b từ người dùng. Chương trình sẽ tính toán và hiển thị:\n",
    "Tổng của a và b\n",
    "Hiệu của a và b\n",
    "Tích của a và b\n",
    "Thương của a chia cho b\n",
    "Phần còn lại khi a được chia cho b\n",
    "Kết quả của 〖𝑙𝑜𝑔〗_10 𝑎\n",
    "Kết quả của ab\n",
    "'''"
   ]
  },
  {
   "cell_type": "code",
   "execution_count": 29,
   "id": "2249326a-6191-471c-9d8f-b80e8d0ee108",
   "metadata": {},
   "outputs": [
    {
     "name": "stdin",
     "output_type": "stream",
     "text": [
      "Nhập số nguyên a:  5\n",
      "Nhập số nguyên b:  7\n"
     ]
    },
    {
     "name": "stdout",
     "output_type": "stream",
     "text": [
      "12\n",
      "-2\n",
      "35\n",
      "0.7142857142857143\n",
      "5\n",
      "0.6989700043360189\n",
      "78125\n"
     ]
    }
   ],
   "source": [
    "import math\n",
    "\n",
    "a = int(input(\"Nhập số nguyên a: \"))\n",
    "b = int(input(\"Nhập số nguyên b: \"))\n",
    "\n",
    "print(a + b)\n",
    "print(a - b)\n",
    "print(a * b)\n",
    "print(a / b)\n",
    "print(a % b)\n",
    "print(math.log10(a))\n",
    "print(a ** b)"
   ]
  },
  {
   "cell_type": "code",
   "execution_count": 30,
   "id": "6e617a64-fb2c-4cf0-ac96-ac46edae9739",
   "metadata": {},
   "outputs": [
    {
     "data": {
      "text/plain": [
       "'\\nBài 15: Năng lượng Q cần để thay đổi ΔT nhiệt độ (xét trường hợp ΔT > 0) của M gram nước  được tính bằng: Q = M × C × ΔT, trong đó ΔT có đơn vị là độ (độ Celsius), M có đơn vị gram và Q có đơn vị là Joules.  Viết chương trình theo yêu cầu:\\nĐọc khối lượng của nước và sự thay đổi ΔT nhiệt độ từ người dùng. Chương trình sẽ hiển thị tổng năng lượng của nước khi thay đổi nhiệt độ mong muốn. \\nGợi ý: Nhiệt dung riêng của nước là 4.186 J/g◦C.\\nTính toán chi phí khi thay đổi ΔT nhiệt độ của nước, biết rằng: chi phí là 8,9 cent mỗi kilowatt giờ, 1 Joules = 2.777e-7 kWh.  Hãy tính chi phí để nước đạt nhiệt độ như yêu cầu.\\n'"
      ]
     },
     "execution_count": 30,
     "metadata": {},
     "output_type": "execute_result"
    }
   ],
   "source": [
    "'''\n",
    "Bài 15: Năng lượng Q cần để thay đổi ΔT nhiệt độ (xét trường hợp ΔT > 0) của M gram nước  được tính bằng: Q = M × C × ΔT, trong đó ΔT có đơn vị là độ (độ Celsius), M có đơn vị gram và Q có đơn vị là Joules.  Viết chương trình theo yêu cầu:\n",
    "Đọc khối lượng của nước và sự thay đổi ΔT nhiệt độ từ người dùng. Chương trình sẽ hiển thị tổng năng lượng của nước khi thay đổi nhiệt độ mong muốn. \n",
    "Gợi ý: Nhiệt dung riêng của nước là 4.186 J/g◦C.\n",
    "Tính toán chi phí khi thay đổi ΔT nhiệt độ của nước, biết rằng: chi phí là 8,9 cent mỗi kilowatt giờ, 1 Joules = 2.777e-7 kWh.  Hãy tính chi phí để nước đạt nhiệt độ như yêu cầu.\n",
    "'''"
   ]
  },
  {
   "cell_type": "code",
   "execution_count": 31,
   "id": "28ed7e95-1180-4102-a43a-eb9e3a13848f",
   "metadata": {},
   "outputs": [
    {
     "name": "stdin",
     "output_type": "stream",
     "text": [
      "Nhập khối lượng nước (gram):  50\n",
      "Nhập ΔT (độ C):  30\n"
     ]
    },
    {
     "name": "stdout",
     "output_type": "stream",
     "text": [
      "6279.0\n",
      "0.015518736870000003\n"
     ]
    }
   ],
   "source": [
    "M = float(input(\"Nhập khối lượng nước (gram): \"))\n",
    "dT = float(input(\"Nhập ΔT (độ C): \"))\n",
    "C = 4.186\n",
    "Q = M * C * dT\n",
    "print(Q)\n",
    "kWh = Q * 2.777e-7\n",
    "cost = kWh * 8.9\n",
    "print(cost)"
   ]
  },
  {
   "cell_type": "code",
   "execution_count": 32,
   "id": "2219d166-f65a-47ca-805a-0eb4bb174de1",
   "metadata": {},
   "outputs": [
    {
     "data": {
      "text/plain": [
       "'\\nBài 16: Viết một chương trình xác định tốc độ di chuyển của một vật khi nó chạm đất. Người dùng sẽ nhập chiều cao mà từ đó vật đó được thả (đơn vị tính mét (m)).\\nGợi ý: Sử dụng công thức 𝒗_𝒇  =√(𝒗_𝒊^𝟐  + 𝟐𝐚𝐝)  để tính tốc độ cuối cùng, 𝒗_𝒊  tốc độ ban đầu, a là gia tốc trọng trường, và d là độ cao. Tốc độ ban đầu của một vật là 0 m/s,  gia tốc trọng trường là 9,8 m/s2.\\n'"
      ]
     },
     "execution_count": 32,
     "metadata": {},
     "output_type": "execute_result"
    }
   ],
   "source": [
    "'''\n",
    "Bài 16: Viết một chương trình xác định tốc độ di chuyển của một vật khi nó chạm đất. Người dùng sẽ nhập chiều cao mà từ đó vật đó được thả (đơn vị tính mét (m)).\n",
    "Gợi ý: Sử dụng công thức 𝒗_𝒇  =√(𝒗_𝒊^𝟐  + 𝟐𝐚𝐝)  để tính tốc độ cuối cùng, 𝒗_𝒊  tốc độ ban đầu, a là gia tốc trọng trường, và d là độ cao. Tốc độ ban đầu của một vật là 0 m/s,  gia tốc trọng trường là 9,8 m/s2.\n",
    "'''"
   ]
  },
  {
   "cell_type": "code",
   "execution_count": 33,
   "id": "c65de16f-af27-4f5a-a3c7-8adcb8b99c82",
   "metadata": {},
   "outputs": [
    {
     "name": "stdin",
     "output_type": "stream",
     "text": [
      "Nhập độ cao (m):  5\n"
     ]
    },
    {
     "name": "stdout",
     "output_type": "stream",
     "text": [
      "9.899494936611665\n"
     ]
    }
   ],
   "source": [
    "import math\n",
    "d = float(input(\"Nhập độ cao (m): \"))\n",
    "a = 9.8\n",
    "vi = 0\n",
    "vf = math.sqrt(vi**2 + 2*a*d)\n",
    "print(vf)"
   ]
  },
  {
   "cell_type": "code",
   "execution_count": 34,
   "id": "e5918ca4-5e1d-48e0-bace-9c21887c8840",
   "metadata": {},
   "outputs": [
    {
     "data": {
      "text/plain": [
       "'\\nBài 17: Khi gió thổi trong thời tiết lạnh, làm cho không khí lạnh hơn so với thực tế. Nguyên nhân là do sự chuyển động của không khí làm tăng tốc độ làm mát cho các vật thể (chẳng hạn, như con người).\\nNăm 2001, Canada, Vương quốc Anh và Hoa Kỳ đã áp dụng công thức sau đây để tính toán chỉ số gió lạnh: WCI = 13,12 + 0,6215Ta - 11,37V0.16 + 0,3965Ta V0.16\\nTrong công thức Ta là nhiệt độ không khí tính bằng độ C và V là tốc độ gió tính bằng km/giờ.\\nViết chương trình đọc nhiệt độ không khí và tốc độ gió từ người dùng. Hiển thị chỉ số gió lạnh được làm tròn đến số nguyên gần nhất.\\n'"
      ]
     },
     "execution_count": 34,
     "metadata": {},
     "output_type": "execute_result"
    }
   ],
   "source": [
    "'''\n",
    "Bài 17: Khi gió thổi trong thời tiết lạnh, làm cho không khí lạnh hơn so với thực tế. Nguyên nhân là do sự chuyển động của không khí làm tăng tốc độ làm mát cho các vật thể (chẳng hạn, như con người).\n",
    "Năm 2001, Canada, Vương quốc Anh và Hoa Kỳ đã áp dụng công thức sau đây để tính toán chỉ số gió lạnh: WCI = 13,12 + 0,6215Ta - 11,37V0.16 + 0,3965Ta V0.16\n",
    "Trong công thức Ta là nhiệt độ không khí tính bằng độ C và V là tốc độ gió tính bằng km/giờ.\n",
    "Viết chương trình đọc nhiệt độ không khí và tốc độ gió từ người dùng. Hiển thị chỉ số gió lạnh được làm tròn đến số nguyên gần nhất.\n",
    "'''"
   ]
  },
  {
   "cell_type": "code",
   "execution_count": 35,
   "id": "449dddd6-fb2f-4307-8357-45aaf2bc49c4",
   "metadata": {},
   "outputs": [
    {
     "name": "stdin",
     "output_type": "stream",
     "text": [
      "Nhập nhiệt độ không khí (°C):  37\n",
      "Nhập tốc độ gió (km/h):  30\n"
     ]
    },
    {
     "name": "stdout",
     "output_type": "stream",
     "text": [
      "42\n"
     ]
    }
   ],
   "source": [
    "Ta = float(input(\"Nhập nhiệt độ không khí (°C): \"))\n",
    "V = float(input(\"Nhập tốc độ gió (km/h): \"))\n",
    "WCI = 13.12 + 0.6215*Ta - 11.37*(V**0.16) + 0.3965*Ta*(V**0.16)\n",
    "print(round(WCI))"
   ]
  },
  {
   "cell_type": "code",
   "execution_count": null,
   "id": "34d4ee10-d2e7-4b8e-ab15-e720719cee6e",
   "metadata": {},
   "outputs": [],
   "source": []
  }
 ],
 "metadata": {
  "kernelspec": {
   "display_name": "Python [conda env:base] *",
   "language": "python",
   "name": "conda-base-py"
  },
  "language_info": {
   "codemirror_mode": {
    "name": "ipython",
    "version": 3
   },
   "file_extension": ".py",
   "mimetype": "text/x-python",
   "name": "python",
   "nbconvert_exporter": "python",
   "pygments_lexer": "ipython3",
   "version": "3.13.5"
  }
 },
 "nbformat": 4,
 "nbformat_minor": 5
}
